{
  "nbformat": 4,
  "nbformat_minor": 0,
  "metadata": {
    "colab": {
      "name": "Untitled0.ipynb",
      "version": "0.3.2",
      "provenance": [],
      "collapsed_sections": []
    },
    "kernelspec": {
      "name": "python3",
      "display_name": "Python 3"
    },
    "accelerator": "GPU"
  },
  "cells": [
    {
      "metadata": {
        "id": "QpMWsg6t3xIr",
        "colab_type": "text"
      },
      "cell_type": "markdown",
      "source": [
        "**Case study – Enron email classification**"
      ]
    },
    {
      "metadata": {
        "id": "3FOL-Ppu4LTP",
        "colab_type": "text"
      },
      "cell_type": "markdown",
      "source": [
        "Importing all the necessary libraries for data manipulation and analysis."
      ]
    },
    {
      "metadata": {
        "id": "nhgdgwnIVRoj",
        "colab_type": "text"
      },
      "cell_type": "markdown",
      "source": [
        "Installing NLTK"
      ]
    },
    {
      "metadata": {
        "id": "MDQQB2b1vPZx",
        "colab_type": "code",
        "colab": {
          "base_uri": "https://localhost:8080/",
          "height": 51
        },
        "outputId": "645ecee8-da49-421f-ebd9-526773779fa7"
      },
      "cell_type": "code",
      "source": [
        "pip install nltk"
      ],
      "execution_count": 1,
      "outputs": [
        {
          "output_type": "stream",
          "text": [
            "Requirement already satisfied: nltk in /usr/local/lib/python3.6/dist-packages (3.2.5)\n",
            "Requirement already satisfied: six in /usr/local/lib/python3.6/dist-packages (from nltk) (1.11.0)\n"
          ],
          "name": "stdout"
        }
      ]
    },
    {
      "metadata": {
        "id": "EkKsa_C9vUf3",
        "colab_type": "code",
        "colab": {}
      },
      "cell_type": "code",
      "source": [
        "import nltk\n",
        "from nltk.corpus import stopwords"
      ],
      "execution_count": 0,
      "outputs": []
    },
    {
      "metadata": {
        "id": "H1NrVe0bxesQ",
        "colab_type": "code",
        "colab": {
          "base_uri": "https://localhost:8080/",
          "height": 816
        },
        "outputId": "4bb3edd6-f0d7-45cf-84ca-c20cbb1f864e"
      },
      "cell_type": "code",
      "source": [
        "\n",
        "nltk.download(\"popular\")"
      ],
      "execution_count": 55,
      "outputs": [
        {
          "output_type": "stream",
          "text": [
            "[nltk_data] Downloading collection 'popular'\n",
            "[nltk_data]    | \n",
            "[nltk_data]    | Downloading package cmudict to /root/nltk_data...\n",
            "[nltk_data]    |   Unzipping corpora/cmudict.zip.\n",
            "[nltk_data]    | Downloading package gazetteers to /root/nltk_data...\n",
            "[nltk_data]    |   Unzipping corpora/gazetteers.zip.\n",
            "[nltk_data]    | Downloading package genesis to /root/nltk_data...\n",
            "[nltk_data]    |   Unzipping corpora/genesis.zip.\n",
            "[nltk_data]    | Downloading package gutenberg to /root/nltk_data...\n",
            "[nltk_data]    |   Unzipping corpora/gutenberg.zip.\n",
            "[nltk_data]    | Downloading package inaugural to /root/nltk_data...\n",
            "[nltk_data]    |   Unzipping corpora/inaugural.zip.\n",
            "[nltk_data]    | Downloading package movie_reviews to\n",
            "[nltk_data]    |     /root/nltk_data...\n",
            "[nltk_data]    |   Unzipping corpora/movie_reviews.zip.\n",
            "[nltk_data]    | Downloading package names to /root/nltk_data...\n",
            "[nltk_data]    |   Unzipping corpora/names.zip.\n",
            "[nltk_data]    | Downloading package shakespeare to /root/nltk_data...\n",
            "[nltk_data]    |   Unzipping corpora/shakespeare.zip.\n",
            "[nltk_data]    | Downloading package stopwords to /root/nltk_data...\n",
            "[nltk_data]    |   Unzipping corpora/stopwords.zip.\n",
            "[nltk_data]    | Downloading package treebank to /root/nltk_data...\n",
            "[nltk_data]    |   Unzipping corpora/treebank.zip.\n",
            "[nltk_data]    | Downloading package twitter_samples to\n",
            "[nltk_data]    |     /root/nltk_data...\n",
            "[nltk_data]    |   Unzipping corpora/twitter_samples.zip.\n",
            "[nltk_data]    | Downloading package omw to /root/nltk_data...\n",
            "[nltk_data]    |   Unzipping corpora/omw.zip.\n",
            "[nltk_data]    | Downloading package wordnet to /root/nltk_data...\n",
            "[nltk_data]    |   Unzipping corpora/wordnet.zip.\n",
            "[nltk_data]    | Downloading package wordnet_ic to /root/nltk_data...\n",
            "[nltk_data]    |   Unzipping corpora/wordnet_ic.zip.\n",
            "[nltk_data]    | Downloading package words to /root/nltk_data...\n",
            "[nltk_data]    |   Unzipping corpora/words.zip.\n",
            "[nltk_data]    | Downloading package maxent_ne_chunker to\n",
            "[nltk_data]    |     /root/nltk_data...\n",
            "[nltk_data]    |   Unzipping chunkers/maxent_ne_chunker.zip.\n",
            "[nltk_data]    | Downloading package punkt to /root/nltk_data...\n",
            "[nltk_data]    |   Unzipping tokenizers/punkt.zip.\n",
            "[nltk_data]    | Downloading package snowball_data to\n",
            "[nltk_data]    |     /root/nltk_data...\n",
            "[nltk_data]    | Downloading package averaged_perceptron_tagger to\n",
            "[nltk_data]    |     /root/nltk_data...\n",
            "[nltk_data]    |   Unzipping taggers/averaged_perceptron_tagger.zip.\n",
            "[nltk_data]    | \n",
            "[nltk_data]  Done downloading collection popular\n"
          ],
          "name": "stdout"
        },
        {
          "output_type": "execute_result",
          "data": {
            "text/plain": [
              "True"
            ]
          },
          "metadata": {
            "tags": []
          },
          "execution_count": 55
        }
      ]
    },
    {
      "metadata": {
        "id": "OiJJuLyDuwz7",
        "colab_type": "code",
        "colab": {}
      },
      "cell_type": "code",
      "source": [
        "import pandas as pd\n",
        "import numpy as np\n",
        "import matplotlib.pyplot as plt\n",
        "import nltk\n",
        "%matplotlib inline"
      ],
      "execution_count": 0,
      "outputs": []
    },
    {
      "metadata": {
        "id": "WjSAcWOBxztp",
        "colab_type": "text"
      },
      "cell_type": "markdown",
      "source": [
        "Importing the necessary libraries for data vectorization and modelling."
      ]
    },
    {
      "metadata": {
        "id": "JOVNhQe_6uGv",
        "colab_type": "code",
        "colab": {
          "base_uri": "https://localhost:8080/",
          "height": 34
        },
        "outputId": "c13f9bb5-c3c8-4e7e-aea5-f97482003cf9"
      },
      "cell_type": "code",
      "source": [
        "from sklearn.feature_extraction.text import TfidfVectorizer, ENGLISH_STOP_WORDS\n",
        "from sklearn.preprocessing import normalize \n",
        "from sklearn.pipeline import make_pipeline\n",
        "from sklearn.decomposition import PCA\n",
        "from sklearn.cluster import KMeans, MiniBatchKMeans\n",
        "from sklearn.manifold import TSNE\n",
        "from sklearn.decomposition import TruncatedSVD\n",
        "from nltk.corpus import stopwords\n",
        "from sklearn.feature_extraction.text import CountVectorizer\n",
        "from sklearn.linear_model import LogisticRegression\n",
        "from sklearn.metrics import accuracy_score\n",
        "from sklearn.model_selection import train_test_split\n",
        "print(\"completed\")"
      ],
      "execution_count": 83,
      "outputs": [
        {
          "output_type": "stream",
          "text": [
            "completed\n"
          ],
          "name": "stdout"
        }
      ]
    },
    {
      "metadata": {
        "id": "3QntV2ce5QuH",
        "colab_type": "text"
      },
      "cell_type": "markdown",
      "source": [
        "Uploading the data set CSV file. Using Google COLAB for the Case study.\n"
      ]
    },
    {
      "metadata": {
        "id": "-eLG1UDRwu2t",
        "colab_type": "code",
        "colab": {}
      },
      "cell_type": "code",
      "source": [
        "# from google.colab import files\n",
        "# uploaded = files.upload()"
      ],
      "execution_count": 0,
      "outputs": []
    },
    {
      "metadata": {
        "id": "Qw3sNWYaxLzZ",
        "colab_type": "code",
        "colab": {}
      },
      "cell_type": "code",
      "source": [
        "# import io\n",
        "# test_df = pd.read_csv(io.BytesIO(uploaded['enron_cleaned_sent_emails.csv']))"
      ],
      "execution_count": 0,
      "outputs": []
    },
    {
      "metadata": {
        "id": "CnFd8hvVxN7i",
        "colab_type": "text"
      },
      "cell_type": "markdown",
      "source": [
        "Reading CSV file into a data frame \"**data_df**\".\n",
        "\n",
        "\n",
        "\n"
      ]
    },
    {
      "metadata": {
        "id": "1twTQDruXXHR",
        "colab_type": "code",
        "colab": {}
      },
      "cell_type": "code",
      "source": [
        "data_df = pd.read_csv('enron_cleaned_sent_emails.csv')"
      ],
      "execution_count": 0,
      "outputs": []
    },
    {
      "metadata": {
        "id": "ptIxByUrUkWe",
        "colab_type": "code",
        "colab": {}
      },
      "cell_type": "code",
      "source": [
        "from IPython.core.interactiveshell import InteractiveShell\n",
        "InteractiveShell.ast_node_interactivity = \"all\""
      ],
      "execution_count": 0,
      "outputs": []
    },
    {
      "metadata": {
        "id": "GCunKKAbLV0z",
        "colab_type": "text"
      },
      "cell_type": "markdown",
      "source": [
        "Viewing the top 5 rows of the data frame."
      ]
    },
    {
      "metadata": {
        "id": "RmjeReYrUylA",
        "colab_type": "code",
        "colab": {
          "base_uri": "https://localhost:8080/",
          "height": 204
        },
        "outputId": "9c149eeb-15bd-4337-e036-afe5788ce60a"
      },
      "cell_type": "code",
      "source": [
        "data_df.head()"
      ],
      "execution_count": 12,
      "outputs": [
        {
          "output_type": "execute_result",
          "data": {
            "text/html": [
              "<div>\n",
              "<style scoped>\n",
              "    .dataframe tbody tr th:only-of-type {\n",
              "        vertical-align: middle;\n",
              "    }\n",
              "\n",
              "    .dataframe tbody tr th {\n",
              "        vertical-align: top;\n",
              "    }\n",
              "\n",
              "    .dataframe thead th {\n",
              "        text-align: right;\n",
              "    }\n",
              "</style>\n",
              "<table border=\"1\" class=\"dataframe\">\n",
              "  <thead>\n",
              "    <tr style=\"text-align: right;\">\n",
              "      <th></th>\n",
              "      <th>file</th>\n",
              "      <th>body</th>\n",
              "    </tr>\n",
              "  </thead>\n",
              "  <tbody>\n",
              "    <tr>\n",
              "      <th>0</th>\n",
              "      <td>allen-p/_sent_mail/1.</td>\n",
              "      <td>Here is our forecast\\n\\n</td>\n",
              "    </tr>\n",
              "    <tr>\n",
              "      <th>1</th>\n",
              "      <td>allen-p/_sent_mail/10.</td>\n",
              "      <td>Traveling to have a business meeting takes the...</td>\n",
              "    </tr>\n",
              "    <tr>\n",
              "      <th>2</th>\n",
              "      <td>allen-p/_sent_mail/100.</td>\n",
              "      <td>test successful.  way to go!!!</td>\n",
              "    </tr>\n",
              "    <tr>\n",
              "      <th>3</th>\n",
              "      <td>allen-p/_sent_mail/1000.</td>\n",
              "      <td>Randy,\\n\\n Can you send me a schedule of the s...</td>\n",
              "    </tr>\n",
              "    <tr>\n",
              "      <th>4</th>\n",
              "      <td>allen-p/_sent_mail/1001.</td>\n",
              "      <td>Let's shoot for Tuesday at 11:45.</td>\n",
              "    </tr>\n",
              "  </tbody>\n",
              "</table>\n",
              "</div>"
            ],
            "text/plain": [
              "                       file                                               body\n",
              "0     allen-p/_sent_mail/1.                          Here is our forecast\\n\\n \n",
              "1    allen-p/_sent_mail/10.  Traveling to have a business meeting takes the...\n",
              "2   allen-p/_sent_mail/100.                     test successful.  way to go!!!\n",
              "3  allen-p/_sent_mail/1000.  Randy,\\n\\n Can you send me a schedule of the s...\n",
              "4  allen-p/_sent_mail/1001.                Let's shoot for Tuesday at 11:45.  "
            ]
          },
          "metadata": {
            "tags": []
          },
          "execution_count": 12
        }
      ]
    },
    {
      "metadata": {
        "id": "MhP1Y2rULgWn",
        "colab_type": "text"
      },
      "cell_type": "markdown",
      "source": [
        "Shape gives the dimension of the data frame."
      ]
    },
    {
      "metadata": {
        "id": "6YxQ8N8GU3c2",
        "colab_type": "code",
        "colab": {
          "base_uri": "https://localhost:8080/",
          "height": 34
        },
        "outputId": "6d0b2c7d-2f54-4da4-8afd-d962cdcb5f7f"
      },
      "cell_type": "code",
      "source": [
        "data_df.shape"
      ],
      "execution_count": 13,
      "outputs": [
        {
          "output_type": "execute_result",
          "data": {
            "text/plain": [
              "(126846, 2)"
            ]
          },
          "metadata": {
            "tags": []
          },
          "execution_count": 13
        }
      ]
    },
    {
      "metadata": {
        "id": "P2CTTn0TLtG9",
        "colab_type": "text"
      },
      "cell_type": "markdown",
      "source": [
        "File column is constructed as <sender_name>/<mailbox_type>/<file_number>.\n",
        "So split the file column as sender_name, mailbox_type and file_number."
      ]
    },
    {
      "metadata": {
        "id": "_Qx9DBniU6_y",
        "colab_type": "code",
        "colab": {}
      },
      "cell_type": "code",
      "source": [
        "temp = data_df[\"file\"].str.split(\"/\", n = 1, expand = True) "
      ],
      "execution_count": 0,
      "outputs": []
    },
    {
      "metadata": {
        "id": "NKE7flyYU_nS",
        "colab_type": "code",
        "colab": {
          "base_uri": "https://localhost:8080/",
          "height": 204
        },
        "outputId": "ff778f0f-4a85-4288-d8cc-7c2f7b6356a3"
      },
      "cell_type": "code",
      "source": [
        "temp.head()"
      ],
      "execution_count": 15,
      "outputs": [
        {
          "output_type": "execute_result",
          "data": {
            "text/html": [
              "<div>\n",
              "<style scoped>\n",
              "    .dataframe tbody tr th:only-of-type {\n",
              "        vertical-align: middle;\n",
              "    }\n",
              "\n",
              "    .dataframe tbody tr th {\n",
              "        vertical-align: top;\n",
              "    }\n",
              "\n",
              "    .dataframe thead th {\n",
              "        text-align: right;\n",
              "    }\n",
              "</style>\n",
              "<table border=\"1\" class=\"dataframe\">\n",
              "  <thead>\n",
              "    <tr style=\"text-align: right;\">\n",
              "      <th></th>\n",
              "      <th>0</th>\n",
              "      <th>1</th>\n",
              "    </tr>\n",
              "  </thead>\n",
              "  <tbody>\n",
              "    <tr>\n",
              "      <th>0</th>\n",
              "      <td>allen-p</td>\n",
              "      <td>_sent_mail/1.</td>\n",
              "    </tr>\n",
              "    <tr>\n",
              "      <th>1</th>\n",
              "      <td>allen-p</td>\n",
              "      <td>_sent_mail/10.</td>\n",
              "    </tr>\n",
              "    <tr>\n",
              "      <th>2</th>\n",
              "      <td>allen-p</td>\n",
              "      <td>_sent_mail/100.</td>\n",
              "    </tr>\n",
              "    <tr>\n",
              "      <th>3</th>\n",
              "      <td>allen-p</td>\n",
              "      <td>_sent_mail/1000.</td>\n",
              "    </tr>\n",
              "    <tr>\n",
              "      <th>4</th>\n",
              "      <td>allen-p</td>\n",
              "      <td>_sent_mail/1001.</td>\n",
              "    </tr>\n",
              "  </tbody>\n",
              "</table>\n",
              "</div>"
            ],
            "text/plain": [
              "         0                 1\n",
              "0  allen-p     _sent_mail/1.\n",
              "1  allen-p    _sent_mail/10.\n",
              "2  allen-p   _sent_mail/100.\n",
              "3  allen-p  _sent_mail/1000.\n",
              "4  allen-p  _sent_mail/1001."
            ]
          },
          "metadata": {
            "tags": []
          },
          "execution_count": 15
        }
      ]
    },
    {
      "metadata": {
        "id": "jZeNabA0VBrY",
        "colab_type": "code",
        "colab": {}
      },
      "cell_type": "code",
      "source": [
        "data_df[\"sender_name\"]=temp[0]"
      ],
      "execution_count": 0,
      "outputs": []
    },
    {
      "metadata": {
        "id": "M3qoH3SpVM-r",
        "colab_type": "code",
        "colab": {}
      },
      "cell_type": "code",
      "source": [
        "temp1 = temp[1].str.split(\"/\", n = 1, expand = True) "
      ],
      "execution_count": 0,
      "outputs": []
    },
    {
      "metadata": {
        "id": "y--3a2RnVReh",
        "colab_type": "code",
        "colab": {}
      },
      "cell_type": "code",
      "source": [
        "data_df[\"mailbox_type\"]=temp1[0]"
      ],
      "execution_count": 0,
      "outputs": []
    },
    {
      "metadata": {
        "id": "HXLdO-ygVVI4",
        "colab_type": "code",
        "colab": {}
      },
      "cell_type": "code",
      "source": [
        "data_df[\"file_number\"]=temp1[1]"
      ],
      "execution_count": 0,
      "outputs": []
    },
    {
      "metadata": {
        "id": "S2ampK8iVFqR",
        "colab_type": "code",
        "colab": {
          "base_uri": "https://localhost:8080/",
          "height": 204
        },
        "outputId": "44044be1-d06d-4273-e42e-07c1b96894e9"
      },
      "cell_type": "code",
      "source": [
        "data_df.head()"
      ],
      "execution_count": 20,
      "outputs": [
        {
          "output_type": "execute_result",
          "data": {
            "text/html": [
              "<div>\n",
              "<style scoped>\n",
              "    .dataframe tbody tr th:only-of-type {\n",
              "        vertical-align: middle;\n",
              "    }\n",
              "\n",
              "    .dataframe tbody tr th {\n",
              "        vertical-align: top;\n",
              "    }\n",
              "\n",
              "    .dataframe thead th {\n",
              "        text-align: right;\n",
              "    }\n",
              "</style>\n",
              "<table border=\"1\" class=\"dataframe\">\n",
              "  <thead>\n",
              "    <tr style=\"text-align: right;\">\n",
              "      <th></th>\n",
              "      <th>file</th>\n",
              "      <th>body</th>\n",
              "      <th>sender_name</th>\n",
              "      <th>mailbox_type</th>\n",
              "      <th>file_number</th>\n",
              "    </tr>\n",
              "  </thead>\n",
              "  <tbody>\n",
              "    <tr>\n",
              "      <th>0</th>\n",
              "      <td>allen-p/_sent_mail/1.</td>\n",
              "      <td>Here is our forecast\\n\\n</td>\n",
              "      <td>allen-p</td>\n",
              "      <td>_sent_mail</td>\n",
              "      <td>1.</td>\n",
              "    </tr>\n",
              "    <tr>\n",
              "      <th>1</th>\n",
              "      <td>allen-p/_sent_mail/10.</td>\n",
              "      <td>Traveling to have a business meeting takes the...</td>\n",
              "      <td>allen-p</td>\n",
              "      <td>_sent_mail</td>\n",
              "      <td>10.</td>\n",
              "    </tr>\n",
              "    <tr>\n",
              "      <th>2</th>\n",
              "      <td>allen-p/_sent_mail/100.</td>\n",
              "      <td>test successful.  way to go!!!</td>\n",
              "      <td>allen-p</td>\n",
              "      <td>_sent_mail</td>\n",
              "      <td>100.</td>\n",
              "    </tr>\n",
              "    <tr>\n",
              "      <th>3</th>\n",
              "      <td>allen-p/_sent_mail/1000.</td>\n",
              "      <td>Randy,\\n\\n Can you send me a schedule of the s...</td>\n",
              "      <td>allen-p</td>\n",
              "      <td>_sent_mail</td>\n",
              "      <td>1000.</td>\n",
              "    </tr>\n",
              "    <tr>\n",
              "      <th>4</th>\n",
              "      <td>allen-p/_sent_mail/1001.</td>\n",
              "      <td>Let's shoot for Tuesday at 11:45.</td>\n",
              "      <td>allen-p</td>\n",
              "      <td>_sent_mail</td>\n",
              "      <td>1001.</td>\n",
              "    </tr>\n",
              "  </tbody>\n",
              "</table>\n",
              "</div>"
            ],
            "text/plain": [
              "                       file  \\\n",
              "0     allen-p/_sent_mail/1.   \n",
              "1    allen-p/_sent_mail/10.   \n",
              "2   allen-p/_sent_mail/100.   \n",
              "3  allen-p/_sent_mail/1000.   \n",
              "4  allen-p/_sent_mail/1001.   \n",
              "\n",
              "                                                body sender_name mailbox_type  \\\n",
              "0                          Here is our forecast\\n\\n      allen-p   _sent_mail   \n",
              "1  Traveling to have a business meeting takes the...     allen-p   _sent_mail   \n",
              "2                     test successful.  way to go!!!     allen-p   _sent_mail   \n",
              "3  Randy,\\n\\n Can you send me a schedule of the s...     allen-p   _sent_mail   \n",
              "4                Let's shoot for Tuesday at 11:45.       allen-p   _sent_mail   \n",
              "\n",
              "  file_number  \n",
              "0          1.  \n",
              "1         10.  \n",
              "2        100.  \n",
              "3       1000.  \n",
              "4       1001.  "
            ]
          },
          "metadata": {
            "tags": []
          },
          "execution_count": 20
        }
      ]
    },
    {
      "metadata": {
        "id": "9L5zb27jMRsV",
        "colab_type": "text"
      },
      "cell_type": "markdown",
      "source": [
        "Dropping the file column."
      ]
    },
    {
      "metadata": {
        "id": "qWaQF8qvVI37",
        "colab_type": "code",
        "colab": {}
      },
      "cell_type": "code",
      "source": [
        "data_df.drop(columns =[\"file\"], inplace = True) "
      ],
      "execution_count": 0,
      "outputs": []
    },
    {
      "metadata": {
        "id": "g8ZatG_EMngZ",
        "colab_type": "text"
      },
      "cell_type": "markdown",
      "source": [
        "let's visualize the data.\n"
      ]
    },
    {
      "metadata": {
        "id": "5xlU0cvzMzDz",
        "colab_type": "text"
      },
      "cell_type": "markdown",
      "source": [
        "Visualizing the Mailbox_type column."
      ]
    },
    {
      "metadata": {
        "id": "zDWuzfFOVgUX",
        "colab_type": "code",
        "colab": {
          "base_uri": "https://localhost:8080/",
          "height": 265
        },
        "outputId": "e86cf023-4d7b-4769-abcd-4b685e838ef7"
      },
      "cell_type": "code",
      "source": [
        "data_df['mailbox_type'].value_counts().plot('barh').invert_yaxis() #horizontal bar plot"
      ],
      "execution_count": 22,
      "outputs": [
        {
          "output_type": "display_data",
          "data": {
            "image/png": "[encoded data removed]",
            "text/plain": [
              "<Figure size 432x288 with 1 Axes>"
            ]
          },
          "metadata": {
            "tags": []
          }
        }
      ]
    },
    {
      "metadata": {
        "id": "03ldkrhwVtIJ",
        "colab_type": "code",
        "colab": {
          "base_uri": "https://localhost:8080/",
          "height": 68
        },
        "outputId": "3d8ee3fe-d8c8-4bd7-d59e-f615c9be9f87"
      },
      "cell_type": "code",
      "source": [
        "data_df.mailbox_type.unique()"
      ],
      "execution_count": 23,
      "outputs": [
        {
          "output_type": "execute_result",
          "data": {
            "text/plain": [
              "array(['_sent_mail', 'sent_items', 'sent', 'presentations',\n",
              "       'deleted_items', '_sent', 'hold', 'inbox', 'diana_scholtes',\n",
              "       'chris_stokley'], dtype=object)"
            ]
          },
          "metadata": {
            "tags": []
          },
          "execution_count": 23
        }
      ]
    },
    {
      "metadata": {
        "id": "CAmMKd3INHLN",
        "colab_type": "text"
      },
      "cell_type": "markdown",
      "source": [
        "The data belongs to the sent messages.  \n",
        "From the above visualization, we can see that there are 4 types of sent mailboxes.\n",
        "All four represent the same, so we can go ahead and combine them.\n"
      ]
    },
    {
      "metadata": {
        "id": "nMqWvAMDOf5M",
        "colab_type": "code",
        "colab": {
          "base_uri": "https://localhost:8080/",
          "height": 153
        },
        "outputId": "23c05020-016c-4cf5-dfa0-adbca6c17882"
      },
      "cell_type": "code",
      "source": [
        "data_df.loc[data_df['mailbox_type'] == 'presentations', 'sender_name'].value_counts()"
      ],
      "execution_count": 24,
      "outputs": [
        {
          "output_type": "execute_result",
          "data": {
            "text/plain": [
              "kean-s         61\n",
              "kaminski-v     21\n",
              "mcconnell-m    15\n",
              "blair-l        10\n",
              "shapiro-r       1\n",
              "arora-h         1\n",
              "rogers-b        1\n",
              "Name: sender_name, dtype: int64"
            ]
          },
          "metadata": {
            "tags": []
          },
          "execution_count": 24
        }
      ]
    },
    {
      "metadata": {
        "id": "3VnFlMouU9Av",
        "colab_type": "text"
      },
      "cell_type": "markdown",
      "source": [
        "We do have the data of the different mailbox types from a person."
      ]
    },
    {
      "metadata": {
        "id": "3KTJoXGFP3YT",
        "colab_type": "code",
        "colab": {
          "base_uri": "https://localhost:8080/",
          "height": 51
        },
        "outputId": "3d7b2939-56ab-4143-ee21-3b1aafa8f3e6"
      },
      "cell_type": "code",
      "source": [
        "data_df.loc[data_df['sender_name'] == 'blair-l','mailbox_type'].unique()"
      ],
      "execution_count": 25,
      "outputs": [
        {
          "output_type": "execute_result",
          "data": {
            "text/plain": [
              "array(['_sent_mail', 'deleted_items', 'presentations', 'sent_items'],\n",
              "      dtype=object)"
            ]
          },
          "metadata": {
            "tags": []
          },
          "execution_count": 25
        }
      ]
    },
    {
      "metadata": {
        "id": "oLxdxvRqVsT9",
        "colab_type": "text"
      },
      "cell_type": "markdown",
      "source": [
        "Grouping the sent mailboxes. "
      ]
    },
    {
      "metadata": {
        "id": "lrvZ9wM7Vw5n",
        "colab_type": "code",
        "colab": {}
      },
      "cell_type": "code",
      "source": [
        "data_df['mailbox_type'] = data_df['mailbox_type'].map({'_sent_mail': 'sent','sent_items': 'sent','sent': 'sent','deleted_items': 'deleted_items','presentations': 'presentations','hold': 'hold','_sent': 'sent','inbox': 'inbox','diana_scholtes': 'diana_scholtes','chris_stokley': 'chris_stokley'})"
      ],
      "execution_count": 0,
      "outputs": []
    },
    {
      "metadata": {
        "id": "O-Hzw5pJVzxk",
        "colab_type": "code",
        "colab": {
          "base_uri": "https://localhost:8080/",
          "height": 51
        },
        "outputId": "9c5b4ab3-c931-4ea8-f387-a35624344069"
      },
      "cell_type": "code",
      "source": [
        "data_df.mailbox_type.unique()"
      ],
      "execution_count": 28,
      "outputs": [
        {
          "output_type": "execute_result",
          "data": {
            "text/plain": [
              "array(['sent', 'presentations', 'deleted_items', 'hold', 'inbox',\n",
              "       'diana_scholtes', 'chris_stokley'], dtype=object)"
            ]
          },
          "metadata": {
            "tags": []
          },
          "execution_count": 28
        }
      ]
    },
    {
      "metadata": {
        "id": "GfUBlOZvV-zD",
        "colab_type": "code",
        "colab": {
          "base_uri": "https://localhost:8080/",
          "height": 34
        },
        "outputId": "54ea451a-0761-46fc-ab59-ef1622060914"
      },
      "cell_type": "code",
      "source": [
        "data_df.loc[data_df['sender_name'] == 'stokley-c','mailbox_type'].unique()"
      ],
      "execution_count": 29,
      "outputs": [
        {
          "output_type": "execute_result",
          "data": {
            "text/plain": [
              "array(['chris_stokley'], dtype=object)"
            ]
          },
          "metadata": {
            "tags": []
          },
          "execution_count": 29
        }
      ]
    },
    {
      "metadata": {
        "id": "IDVJ-FebWgIB",
        "colab_type": "code",
        "colab": {
          "base_uri": "https://localhost:8080/",
          "height": 34
        },
        "outputId": "27ea0276-393e-4c28-a41e-2ddea9c18633"
      },
      "cell_type": "code",
      "source": [
        "data_df.loc[data_df['sender_name'] == 'scholtes-d','mailbox_type'].unique()"
      ],
      "execution_count": 30,
      "outputs": [
        {
          "output_type": "execute_result",
          "data": {
            "text/plain": [
              "array(['diana_scholtes', 'sent'], dtype=object)"
            ]
          },
          "metadata": {
            "tags": []
          },
          "execution_count": 30
        }
      ]
    },
    {
      "metadata": {
        "id": "ltaV5t_iWBnr",
        "colab_type": "code",
        "colab": {
          "base_uri": "https://localhost:8080/",
          "height": 34
        },
        "outputId": "4f0aa540-cf86-49e3-9669-796bc3fc17f0"
      },
      "cell_type": "code",
      "source": [
        "data_df.loc[data_df['mailbox_type'] == 'chris_stokley','sender_name'].unique()"
      ],
      "execution_count": 31,
      "outputs": [
        {
          "output_type": "execute_result",
          "data": {
            "text/plain": [
              "array(['stokley-c'], dtype=object)"
            ]
          },
          "metadata": {
            "tags": []
          },
          "execution_count": 31
        }
      ]
    },
    {
      "metadata": {
        "id": "aG1QVKbcWkq-",
        "colab_type": "code",
        "colab": {
          "base_uri": "https://localhost:8080/",
          "height": 34
        },
        "outputId": "987f603d-d8bd-4b8d-b31c-f22b9c4d4512"
      },
      "cell_type": "code",
      "source": [
        "data_df.loc[data_df['mailbox_type'] == 'diana_scholtes','sender_name'].unique()"
      ],
      "execution_count": 32,
      "outputs": [
        {
          "output_type": "execute_result",
          "data": {
            "text/plain": [
              "array(['scholtes-d'], dtype=object)"
            ]
          },
          "metadata": {
            "tags": []
          },
          "execution_count": 32
        }
      ]
    },
    {
      "metadata": {
        "id": "E5ROF2AlW0C6",
        "colab_type": "code",
        "colab": {
          "base_uri": "https://localhost:8080/",
          "height": 34
        },
        "outputId": "b428ca8a-cd13-46cc-a494-46e3e7be15a5"
      },
      "cell_type": "code",
      "source": [
        "data_df.loc[data_df['mailbox_type'] == 'hold','sender_name'].unique()"
      ],
      "execution_count": 33,
      "outputs": [
        {
          "output_type": "execute_result",
          "data": {
            "text/plain": [
              "array(['hayslett-r'], dtype=object)"
            ]
          },
          "metadata": {
            "tags": []
          },
          "execution_count": 33
        }
      ]
    },
    {
      "metadata": {
        "id": "0zAO2o0-W9DA",
        "colab_type": "code",
        "colab": {
          "base_uri": "https://localhost:8080/",
          "height": 34
        },
        "outputId": "4ff9d2de-6abd-4113-b402-8c5fa15d1d66"
      },
      "cell_type": "code",
      "source": [
        "data_df.loc[data_df['sender_name'] == 'hayslett-r','mailbox_type'].unique()"
      ],
      "execution_count": 34,
      "outputs": [
        {
          "output_type": "execute_result",
          "data": {
            "text/plain": [
              "array(['sent', 'hold'], dtype=object)"
            ]
          },
          "metadata": {
            "tags": []
          },
          "execution_count": 34
        }
      ]
    },
    {
      "metadata": {
        "id": "m3-7lZ50XIlP",
        "colab_type": "code",
        "colab": {
          "base_uri": "https://localhost:8080/",
          "height": 34
        },
        "outputId": "48e36712-93b5-42f4-d2a3-9a467657fcd5"
      },
      "cell_type": "code",
      "source": [
        "data_df.loc[data_df['mailbox_type'] == 'deleted_items','sender_name'].unique()"
      ],
      "execution_count": 35,
      "outputs": [
        {
          "output_type": "execute_result",
          "data": {
            "text/plain": [
              "array(['blair-l', 'horton-s'], dtype=object)"
            ]
          },
          "metadata": {
            "tags": []
          },
          "execution_count": 35
        }
      ]
    },
    {
      "metadata": {
        "id": "LlCmBH6rXVBV",
        "colab_type": "code",
        "colab": {
          "base_uri": "https://localhost:8080/",
          "height": 51
        },
        "outputId": "7a195723-01bf-44f9-e13b-3fcc7bb42026"
      },
      "cell_type": "code",
      "source": [
        "data_df.loc[data_df['mailbox_type'] == 'presentations','sender_name'].unique()"
      ],
      "execution_count": 36,
      "outputs": [
        {
          "output_type": "execute_result",
          "data": {
            "text/plain": [
              "array(['arora-h', 'blair-l', 'kaminski-v', 'kean-s', 'mcconnell-m',\n",
              "       'rogers-b', 'shapiro-r'], dtype=object)"
            ]
          },
          "metadata": {
            "tags": []
          },
          "execution_count": 36
        }
      ]
    },
    {
      "metadata": {
        "id": "jyVKHCxlbFmA",
        "colab_type": "code",
        "colab": {
          "base_uri": "https://localhost:8080/",
          "height": 34
        },
        "outputId": "e463504a-70aa-4c2b-a2a6-4675a76facff"
      },
      "cell_type": "code",
      "source": [
        "data_df.loc[data_df['mailbox_type'] == 'inbox','sender_name'].unique()"
      ],
      "execution_count": 37,
      "outputs": [
        {
          "output_type": "execute_result",
          "data": {
            "text/plain": [
              "array(['mccarty-d'], dtype=object)"
            ]
          },
          "metadata": {
            "tags": []
          },
          "execution_count": 37
        }
      ]
    },
    {
      "metadata": {
        "id": "7v2n_bCjbKwQ",
        "colab_type": "code",
        "colab": {
          "base_uri": "https://localhost:8080/",
          "height": 34
        },
        "outputId": "d838651b-bfec-4db3-d58e-c5b89bd73d5b"
      },
      "cell_type": "code",
      "source": [
        "data_df.loc[data_df['sender_name'] == 'mccarty-d','mailbox_type'].unique()"
      ],
      "execution_count": 38,
      "outputs": [
        {
          "output_type": "execute_result",
          "data": {
            "text/plain": [
              "array(['inbox', 'sent'], dtype=object)"
            ]
          },
          "metadata": {
            "tags": []
          },
          "execution_count": 38
        }
      ]
    },
    {
      "metadata": {
        "id": "LEulpSj-V1_g",
        "colab_type": "code",
        "colab": {
          "base_uri": "https://localhost:8080/",
          "height": 153
        },
        "outputId": "340aacdf-8d94-44ad-d238-ae14a599db2b"
      },
      "cell_type": "code",
      "source": [
        "data_df.mailbox_type.value_counts()"
      ],
      "execution_count": 39,
      "outputs": [
        {
          "output_type": "execute_result",
          "data": {
            "text/plain": [
              "sent              125948\n",
              "chris_stokley        515\n",
              "diana_scholtes       132\n",
              "deleted_items        128\n",
              "presentations        110\n",
              "hold                  10\n",
              "inbox                  3\n",
              "Name: mailbox_type, dtype: int64"
            ]
          },
          "metadata": {
            "tags": []
          },
          "execution_count": 39
        }
      ]
    },
    {
      "metadata": {
        "id": "kp_4EVfEXlcM",
        "colab_type": "text"
      },
      "cell_type": "markdown",
      "source": [
        "From the above analysis, it's clear that hayslett-r(hold), scholtes-d(diana_scholtes) and stokley-c(chris_stokley) are having the only one mailbox type. So we can change these mailbox types into the sent mailbox. "
      ]
    },
    {
      "metadata": {
        "id": "7nvLWCYRY_eK",
        "colab_type": "code",
        "colab": {}
      },
      "cell_type": "code",
      "source": [
        "data_df['mailbox_type'] = data_df['mailbox_type'].map({'sent': 'sent','deleted_items': 'deleted_items','presentations': 'presentations','hold': 'sent','inbox': 'inbox','diana_scholtes': 'sent','chris_stokley': 'sent'})"
      ],
      "execution_count": 0,
      "outputs": []
    },
    {
      "metadata": {
        "id": "fvkKXJkzbXgt",
        "colab_type": "code",
        "colab": {
          "base_uri": "https://localhost:8080/",
          "height": 102
        },
        "outputId": "3115c6c9-bd97-4b51-9aef-360af96debd7"
      },
      "cell_type": "code",
      "source": [
        "data_df.mailbox_type.value_counts()"
      ],
      "execution_count": 41,
      "outputs": [
        {
          "output_type": "execute_result",
          "data": {
            "text/plain": [
              "sent             126605\n",
              "deleted_items       128\n",
              "presentations       110\n",
              "inbox                 3\n",
              "Name: mailbox_type, dtype: int64"
            ]
          },
          "metadata": {
            "tags": []
          },
          "execution_count": 41
        }
      ]
    },
    {
      "metadata": {
        "id": "hld-t2Qhj7v4",
        "colab_type": "text"
      },
      "cell_type": "markdown",
      "source": [
        "Checking whether there are any empty strings in the data frame."
      ]
    },
    {
      "metadata": {
        "id": "3Na55caHjLCm",
        "colab_type": "code",
        "colab": {
          "base_uri": "https://localhost:8080/",
          "height": 34
        },
        "outputId": "65c5ed91-cf1d-42c4-e84c-4383383591dc"
      },
      "cell_type": "code",
      "source": [
        "np.where(pd.isnull(data_df))"
      ],
      "execution_count": 42,
      "outputs": [
        {
          "output_type": "execute_result",
          "data": {
            "text/plain": [
              "(array([], dtype=int64), array([], dtype=int64))"
            ]
          },
          "metadata": {
            "tags": []
          },
          "execution_count": 42
        }
      ]
    },
    {
      "metadata": {
        "id": "SxsFU6eMjWe1",
        "colab_type": "code",
        "colab": {
          "base_uri": "https://localhost:8080/",
          "height": 34
        },
        "outputId": "c1e6b090-784e-449f-806d-7c5f42ad4846"
      },
      "cell_type": "code",
      "source": [
        "np.where(data_df.applymap(lambda x: x == ''))"
      ],
      "execution_count": 43,
      "outputs": [
        {
          "output_type": "execute_result",
          "data": {
            "text/plain": [
              "(array([], dtype=int64), array([], dtype=int64))"
            ]
          },
          "metadata": {
            "tags": []
          },
          "execution_count": 43
        }
      ]
    },
    {
      "metadata": {
        "id": "qw1muU3zVQZE",
        "colab_type": "text"
      },
      "cell_type": "markdown",
      "source": [
        "Now, let's visualize the top 10 senders."
      ]
    },
    {
      "metadata": {
        "id": "5BM68UTyVci4",
        "colab_type": "code",
        "colab": {
          "base_uri": "https://localhost:8080/",
          "height": 265
        },
        "outputId": "16bc5525-6e2c-445e-c5a3-967869853959"
      },
      "cell_type": "code",
      "source": [
        "data_df['sender_name'].value_counts().head(10).plot('barh').invert_yaxis() #horizontal bar plot"
      ],
      "execution_count": 26,
      "outputs": [
        {
          "output_type": "display_data",
          "data": {
            "image/png": "[encoded data removed]",
            "text/plain": [
              "<Figure size 432x288 with 1 Axes>"
            ]
          },
          "metadata": {
            "tags": []
          }
        }
      ]
    },
    {
      "metadata": {
        "id": "HAkGNrnFYG5N",
        "colab_type": "code",
        "colab": {
          "base_uri": "https://localhost:8080/",
          "height": 204
        },
        "outputId": "d7bbd084-9145-4b09-82f5-066880f0b3d6"
      },
      "cell_type": "code",
      "source": [
        "data_df['sender_name'].value_counts().head(10)"
      ],
      "execution_count": 84,
      "outputs": [
        {
          "output_type": "execute_result",
          "data": {
            "text/plain": [
              "mann-k          8926\n",
              "kaminski-v      8644\n",
              "dasovich-j      5366\n",
              "germany-c       5128\n",
              "shackleton-s    4407\n",
              "jones-t         4123\n",
              "bass-e          3030\n",
              "lenhart-m       2759\n",
              "beck-s          2674\n",
              "symes-k         2649\n",
              "Name: sender_name, dtype: int64"
            ]
          },
          "metadata": {
            "tags": []
          },
          "execution_count": 84
        }
      ]
    },
    {
      "metadata": {
        "id": "quG4CuKakWKA",
        "colab_type": "text"
      },
      "cell_type": "markdown",
      "source": [
        "Exploring the body column. "
      ]
    },
    {
      "metadata": {
        "id": "RliNYcmAmi6d",
        "colab_type": "code",
        "colab": {
          "base_uri": "https://localhost:8080/",
          "height": 34
        },
        "outputId": "d9538d44-c78c-4cbb-9f9c-fc37da23d0d6"
      },
      "cell_type": "code",
      "source": [
        "data_df.body.iloc[5]"
      ],
      "execution_count": 44,
      "outputs": [
        {
          "output_type": "execute_result",
          "data": {
            "text/plain": [
              "'Greg,\\n\\n How about either next Tuesday or Thursday?\\n\\nPhillip'"
            ]
          },
          "metadata": {
            "tags": []
          },
          "execution_count": 44
        }
      ]
    },
    {
      "metadata": {
        "id": "e8WWePH_kud1",
        "colab_type": "text"
      },
      "cell_type": "markdown",
      "source": [
        "There are many next line characters and special characters.\n",
        "So we can remove all of them using Regular expressions."
      ]
    },
    {
      "metadata": {
        "id": "lMOPHGLkmh-I",
        "colab_type": "code",
        "colab": {}
      },
      "cell_type": "code",
      "source": [
        "import re"
      ],
      "execution_count": 0,
      "outputs": []
    },
    {
      "metadata": {
        "id": "1yKWZ-fJm1wH",
        "colab_type": "code",
        "colab": {}
      },
      "cell_type": "code",
      "source": [
        "REPLACE_NO_SPACE = re.compile(\"[.;:!\\'?,\\\"()\\[\\]]\")\n",
        "REPLACE_WITH_SPACE = re.compile(\"(<br\\s*/><br\\s*/>)|(\\-)|(\\/)|(\\\\n)|(\\>)|(\\<)\")\n",
        "def preprocess_messages(message):\n",
        "    message = [REPLACE_NO_SPACE.sub(\"\", line.lower()) for line in message]\n",
        "    message = [REPLACE_WITH_SPACE.sub(\" \", line) for line in message]\n",
        "    \n",
        "    return message"
      ],
      "execution_count": 0,
      "outputs": []
    },
    {
      "metadata": {
        "id": "CLsX9h6ym9a8",
        "colab_type": "code",
        "colab": {}
      },
      "cell_type": "code",
      "source": [
        "data_df[\"body_clean\"]= preprocess_messages(data_df.body)"
      ],
      "execution_count": 0,
      "outputs": []
    },
    {
      "metadata": {
        "id": "9h8m4LN-nHYk",
        "colab_type": "code",
        "colab": {
          "base_uri": "https://localhost:8080/",
          "height": 34
        },
        "outputId": "2e1968fb-65fb-4d9f-e868-4e8a61568249"
      },
      "cell_type": "code",
      "source": [
        "data_df.body_clean.iloc[0]"
      ],
      "execution_count": 48,
      "outputs": [
        {
          "output_type": "execute_result",
          "data": {
            "text/plain": [
              "'here is our forecast   '"
            ]
          },
          "metadata": {
            "tags": []
          },
          "execution_count": 48
        }
      ]
    },
    {
      "metadata": {
        "id": "zB_w_4kfYsVQ",
        "colab_type": "text"
      },
      "cell_type": "markdown",
      "source": [
        "The above data is clean now. it's not having the special characters. "
      ]
    },
    {
      "metadata": {
        "id": "OvHGAreFpz8b",
        "colab_type": "text"
      },
      "cell_type": "markdown",
      "source": [
        "Vectorization of cleaned body data."
      ]
    },
    {
      "metadata": {
        "id": "7k-kKgNrse-W",
        "colab_type": "code",
        "colab": {}
      },
      "cell_type": "code",
      "source": [
        "# from sklearn.feature_extraction.text import CountVectorizer"
      ],
      "execution_count": 0,
      "outputs": []
    },
    {
      "metadata": {
        "id": "39okkFyXslWO",
        "colab_type": "code",
        "colab": {}
      },
      "cell_type": "code",
      "source": [
        "# cv = CountVectorizer(binary=True)\n",
        "# cv.fit(data_df.body_clean)\n",
        "# X = cv.transform(data_df.body_clean)"
      ],
      "execution_count": 0,
      "outputs": []
    },
    {
      "metadata": {
        "id": "-xM39L0hY9Ab",
        "colab_type": "text"
      },
      "cell_type": "markdown",
      "source": [
        "Removing the stop words. So that the data size will be minimized while maintaining the semantics."
      ]
    },
    {
      "metadata": {
        "id": "s5LFuD2ZtrfJ",
        "colab_type": "code",
        "colab": {}
      },
      "cell_type": "code",
      "source": [
        "# from nltk.corpus import stopwords\n",
        "# stop_words=['in','of','at','a','the']\n",
        "stop_words = stopwords.words('english')\n",
        "def remove_stop_words(corpus):\n",
        "    removed_stop_words = []\n",
        "    for message in corpus:\n",
        "        removed_stop_words.append(\n",
        "            ' '.join([word for word in message.split() \n",
        "                      if word not in stop_words])\n",
        "        )\n",
        "    return removed_stop_words\n",
        "\n",
        "no_stop_words = remove_stop_words(data_df.body_clean)"
      ],
      "execution_count": 0,
      "outputs": []
    },
    {
      "metadata": {
        "id": "D83lm61ft588",
        "colab_type": "code",
        "colab": {
          "base_uri": "https://localhost:8080/",
          "height": 34
        },
        "outputId": "64e4ac3d-13f3-4b71-8453-7ca5afec25af"
      },
      "cell_type": "code",
      "source": [
        "\n",
        "no_stop_words[5]"
      ],
      "execution_count": 60,
      "outputs": [
        {
          "output_type": "execute_result",
          "data": {
            "text/plain": [
              "'greg either next tuesday thursday phillip'"
            ]
          },
          "metadata": {
            "tags": []
          },
          "execution_count": 60
        }
      ]
    },
    {
      "metadata": {
        "id": "qgkKEMCLZZIi",
        "colab_type": "text"
      },
      "cell_type": "markdown",
      "source": [
        "let's perform some stemming algorithms. This will transform the words into its root form. So a search involving any of these words will treat them as the same word which is the root word. So, it becomes essential to link all the words into their root word. "
      ]
    },
    {
      "metadata": {
        "id": "yei_5mid6ewC",
        "colab_type": "code",
        "colab": {}
      },
      "cell_type": "code",
      "source": [
        "def get_stemmed_text(corpus):\n",
        "    from nltk.stem.porter import PorterStemmer\n",
        "    stemmer = PorterStemmer()\n",
        "    return [' '.join([stemmer.stem(word) for word in message.split()]) for message in corpus]\n",
        "\n",
        "stemmed_messages = get_stemmed_text(no_stop_words)"
      ],
      "execution_count": 0,
      "outputs": []
    },
    {
      "metadata": {
        "id": "ykvoEUST4x_T",
        "colab_type": "code",
        "colab": {}
      },
      "cell_type": "code",
      "source": [
        "def get_lemmatized_text(corpus):\n",
        "    from nltk.stem import WordNetLemmatizer\n",
        "    lemmatizer = WordNetLemmatizer()\n",
        "    return [' '.join([lemmatizer.lemmatize(word) for word in message.split()]) for message in corpus]\n",
        "\n",
        "lemmatized_messages = get_lemmatized_text(no_stop_words)"
      ],
      "execution_count": 0,
      "outputs": []
    },
    {
      "metadata": {
        "id": "bKxlw8YP2OSX",
        "colab_type": "code",
        "colab": {}
      },
      "cell_type": "code",
      "source": [
        "data_df[\"stemmed_messages\"]=stemmed_messages"
      ],
      "execution_count": 0,
      "outputs": []
    },
    {
      "metadata": {
        "id": "hOBjd9sRsAIr",
        "colab_type": "code",
        "colab": {
          "base_uri": "https://localhost:8080/",
          "height": 54
        },
        "outputId": "ee48f081-6450-41e2-ea6a-0b79fd5f77de"
      },
      "cell_type": "code",
      "source": [
        "no_stop_words[10]"
      ],
      "execution_count": 90,
      "outputs": [
        {
          "output_type": "execute_result",
          "data": {
            "text/plain": [
              "'mr buckner delivered gas behind san diego enron energy services appropriate enron entity forwarded request zarin imam ees phone number 713 853 7107 phillip allen'"
            ]
          },
          "metadata": {
            "tags": []
          },
          "execution_count": 90
        }
      ]
    },
    {
      "metadata": {
        "id": "USMN0u-t52LU",
        "colab_type": "code",
        "colab": {
          "base_uri": "https://localhost:8080/",
          "height": 54
        },
        "outputId": "f30c5d74-33a6-4183-af4f-35ed2b9efe2e"
      },
      "cell_type": "code",
      "source": [
        "lemmatized_messages[10]"
      ],
      "execution_count": 91,
      "outputs": [
        {
          "output_type": "execute_result",
          "data": {
            "text/plain": [
              "'mr buckner delivered gas behind san diego enron energy service appropriate enron entity forwarded request zarin imam ee phone number 713 853 7107 phillip allen'"
            ]
          },
          "metadata": {
            "tags": []
          },
          "execution_count": 91
        }
      ]
    },
    {
      "metadata": {
        "id": "jodaxjex8OXt",
        "colab_type": "code",
        "colab": {
          "base_uri": "https://localhost:8080/",
          "height": 34
        },
        "outputId": "3de0d507-bc9c-47a1-ec69-7fac0d61e93b"
      },
      "cell_type": "code",
      "source": [
        "stemmed_messages[10]"
      ],
      "execution_count": 92,
      "outputs": [
        {
          "output_type": "execute_result",
          "data": {
            "text/plain": [
              "'mr buckner deliv ga behind san diego enron energi servic appropri enron entiti forward request zarin imam ee phone number 713 853 7107 phillip allen'"
            ]
          },
          "metadata": {
            "tags": []
          },
          "execution_count": 92
        }
      ]
    },
    {
      "metadata": {
        "id": "K36ZlQLHa376",
        "colab_type": "text"
      },
      "cell_type": "markdown",
      "source": [
        "Looks like The Porter stemming algorithm performed well on our data than the WordNet Lemmatizer. It trimmed many of our words. But whereas  WordNet Lemmatizer trimmed very fewer words. "
      ]
    },
    {
      "metadata": {
        "id": "y7W0mOvAdJDR",
        "colab_type": "text"
      },
      "cell_type": "markdown",
      "source": [
        "**TfidfVectorizer ** The goal of using tf-idf is to scale down the impact of tokens that occur very frequently in a given corpus and that are hence empirically less informative than features that occur in a small fraction of the training corpus."
      ]
    },
    {
      "metadata": {
        "id": "VnPu3Az2e2wz",
        "colab_type": "code",
        "colab": {}
      },
      "cell_type": "code",
      "source": [
        "def top_tfidf_feats(row, features, top_n=20):\n",
        "    topn_ids = np.argsort(row)[::-1][:top_n]\n",
        "    top_feats = [(features[i], row[i]) for i in topn_ids]\n",
        "    df = pd.DataFrame(top_feats, columns=['features', 'score'])\n",
        "    return df\n",
        "\n",
        "def top_feats_in_doc(X, features, row_id, top_n=25):\n",
        "    row = np.squeeze(X[row_id].toarray())\n",
        "    return top_tfidf_feats(row, features, top_n)\n",
        "\n",
        "def top_mean_feats(X, features, grp_ids=None, min_tfidf=0.1, top_n=25):\n",
        "    if grp_ids:\n",
        "        D = X[grp_ids].toarray()\n",
        "    else:\n",
        "        D = X.toarray()\n",
        "\n",
        "    D[D < min_tfidf] = 0\n",
        "    tfidf_means = np.mean(D, axis=0)\n",
        "    return top_tfidf_feats(tfidf_means, features, top_n)\n",
        "\n",
        "def top_feats_per_cluster(X, y, features, min_tfidf=0.1, top_n=25):\n",
        "    dfs = []\n",
        "\n",
        "    labels = np.unique(y)\n",
        "    for label in labels:\n",
        "        ids = np.where(y==label) \n",
        "        feats_df = top_mean_feats(X, features, ids, min_tfidf=min_tfidf, top_n=top_n)\n",
        "        feats_df.label = label\n",
        "        dfs.append(feats_df)\n",
        "    return dfs\n",
        "\n",
        "def plot_tfidf_classfeats_h(dfs):\n",
        "    fig = plt.figure(figsize=(12, 9), facecolor=\"w\")\n",
        "    x = np.arange(len(dfs[0]))\n",
        "    for i, df in enumerate(dfs):\n",
        "        ax = fig.add_subplot(1, len(dfs), i+1)\n",
        "        ax.spines[\"top\"].set_visible(False)\n",
        "        ax.spines[\"right\"].set_visible(False)\n",
        "        ax.set_frame_on(False)\n",
        "        ax.get_xaxis().tick_bottom()\n",
        "        ax.get_yaxis().tick_left()\n",
        "        ax.set_xlabel(\"Tf-Idf Score\", labelpad=16, fontsize=14)\n",
        "        ax.set_title(\"cluster = \" + str(df.label), fontsize=16)\n",
        "        ax.ticklabel_format(axis='x', style='sci', scilimits=(-2,2))\n",
        "        ax.barh(x, df.score, align='center', color='#7530FF')\n",
        "        ax.set_yticks(x)\n",
        "        ax.set_ylim([-1, x[-1]+1])\n",
        "        yticks = ax.set_yticklabels(df.features)\n",
        "        plt.subplots_adjust(bottom=0.09, right=0.97, left=0.15, top=0.95, wspace=0.52)\n",
        "    plt.show()"
      ],
      "execution_count": 0,
      "outputs": []
    },
    {
      "metadata": {
        "id": "dRjZxf72V5WF",
        "colab_type": "code",
        "colab": {}
      },
      "cell_type": "code",
      "source": [
        "vect = TfidfVectorizer(stop_words='english', max_df=0.50, min_df=2)\n",
        "X = vect.fit_transform(data_df.stemmed_messages)"
      ],
      "execution_count": 0,
      "outputs": []
    },
    {
      "metadata": {
        "id": "PyKH-0bSqoK9",
        "colab_type": "code",
        "colab": {}
      },
      "cell_type": "code",
      "source": [
        "data_df[\"X\"]=X"
      ],
      "execution_count": 0,
      "outputs": []
    },
    {
      "metadata": {
        "id": "NeaY9Cs3WJ8-",
        "colab_type": "code",
        "colab": {}
      },
      "cell_type": "code",
      "source": [
        "# X_dense = X.todense()\n",
        "# coords = PCA(n_components=2).fit_transform(X_dense)\n",
        "# plt.scatter(coords[:, 0], coords[:, 1], c='m')\n",
        "# plt.show()"
      ],
      "execution_count": 0,
      "outputs": []
    },
    {
      "metadata": {
        "id": "unJvvy8YWQHh",
        "colab_type": "code",
        "colab": {}
      },
      "cell_type": "code",
      "source": [
        "features = vect.get_feature_names()"
      ],
      "execution_count": 0,
      "outputs": []
    },
    {
      "metadata": {
        "id": "-xCw2THMfB2j",
        "colab_type": "code",
        "colab": {}
      },
      "cell_type": "code",
      "source": [
        "to_fe=top_feats_in_doc(X, features, 1, 10)"
      ],
      "execution_count": 0,
      "outputs": []
    },
    {
      "metadata": {
        "id": "sxMzf19KeAyL",
        "colab_type": "text"
      },
      "cell_type": "markdown",
      "source": [
        "Top 10 features of the messages. "
      ]
    },
    {
      "metadata": {
        "id": "czuTh3ZrfGmz",
        "colab_type": "code",
        "colab": {
          "base_uri": "https://localhost:8080/",
          "height": 359
        },
        "outputId": "6d703d22-164a-49bf-8ed9-5b1932d55b30"
      },
      "cell_type": "code",
      "source": [
        "to_fe"
      ],
      "execution_count": 69,
      "outputs": [
        {
          "output_type": "execute_result",
          "data": {
            "text/html": [
              "<div>\n",
              "<style scoped>\n",
              "    .dataframe tbody tr th:only-of-type {\n",
              "        vertical-align: middle;\n",
              "    }\n",
              "\n",
              "    .dataframe tbody tr th {\n",
              "        vertical-align: top;\n",
              "    }\n",
              "\n",
              "    .dataframe thead th {\n",
              "        text-align: right;\n",
              "    }\n",
              "</style>\n",
              "<table border=\"1\" class=\"dataframe\">\n",
              "  <thead>\n",
              "    <tr style=\"text-align: right;\">\n",
              "      <th></th>\n",
              "      <th>features</th>\n",
              "      <th>score</th>\n",
              "    </tr>\n",
              "  </thead>\n",
              "  <tbody>\n",
              "    <tr>\n",
              "      <th>0</th>\n",
              "      <td>meet</td>\n",
              "      <td>0.329452</td>\n",
              "    </tr>\n",
              "    <tr>\n",
              "      <th>1</th>\n",
              "      <td>trip</td>\n",
              "      <td>0.322822</td>\n",
              "    </tr>\n",
              "    <tr>\n",
              "      <th>2</th>\n",
              "      <td>ski</td>\n",
              "      <td>0.307456</td>\n",
              "    </tr>\n",
              "    <tr>\n",
              "      <th>3</th>\n",
              "      <td>busi</td>\n",
              "      <td>0.302501</td>\n",
              "    </tr>\n",
              "    <tr>\n",
              "      <th>4</th>\n",
              "      <td>present</td>\n",
              "      <td>0.180921</td>\n",
              "    </tr>\n",
              "    <tr>\n",
              "      <th>5</th>\n",
              "      <td>suggest</td>\n",
              "      <td>0.179837</td>\n",
              "    </tr>\n",
              "    <tr>\n",
              "      <th>6</th>\n",
              "      <td>stimul</td>\n",
              "      <td>0.178820</td>\n",
              "    </tr>\n",
              "    <tr>\n",
              "      <th>7</th>\n",
              "      <td>jet</td>\n",
              "      <td>0.163892</td>\n",
              "    </tr>\n",
              "    <tr>\n",
              "      <th>8</th>\n",
              "      <td>honest</td>\n",
              "      <td>0.159357</td>\n",
              "    </tr>\n",
              "    <tr>\n",
              "      <th>9</th>\n",
              "      <td>quiet</td>\n",
              "      <td>0.155079</td>\n",
              "    </tr>\n",
              "  </tbody>\n",
              "</table>\n",
              "</div>"
            ],
            "text/plain": [
              "  features     score\n",
              "0     meet  0.329452\n",
              "1     trip  0.322822\n",
              "2      ski  0.307456\n",
              "3     busi  0.302501\n",
              "4  present  0.180921\n",
              "5  suggest  0.179837\n",
              "6   stimul  0.178820\n",
              "7      jet  0.163892\n",
              "8   honest  0.159357\n",
              "9    quiet  0.155079"
            ]
          },
          "metadata": {
            "tags": []
          },
          "execution_count": 69
        }
      ]
    },
    {
      "metadata": {
        "id": "XdvXu_XMeVTy",
        "colab_type": "text"
      },
      "cell_type": "markdown",
      "source": [
        "From above its clear that they are discussing about the meetings more.\n",
        "And then they are discussing about their trips, business and presentations.\n",
        "Also, they are receiving or giving more suggestions. "
      ]
    },
    {
      "metadata": {
        "id": "ilb11NkfgFjx",
        "colab_type": "text"
      },
      "cell_type": "markdown",
      "source": [
        "For our target variable Sender, we are using CountVectorizer.\n",
        "Because it should not LEMMATIZE or STEM the data."
      ]
    },
    {
      "metadata": {
        "id": "4wxiTyKwgdCO",
        "colab_type": "code",
        "colab": {
          "base_uri": "https://localhost:8080/",
          "height": 119
        },
        "outputId": "c4a501c1-eeee-4f5b-8e4d-cd8fef288aed"
      },
      "cell_type": "code",
      "source": [
        "vectorizer = CountVectorizer()\n",
        "vectorizer.fit(data_df.sender_name)\n",
        "vector = vectorizer.transform(data_df.sender_name)"
      ],
      "execution_count": 70,
      "outputs": [
        {
          "output_type": "execute_result",
          "data": {
            "text/plain": [
              "CountVectorizer(analyzer='word', binary=False, decode_error='strict',\n",
              "        dtype=<class 'numpy.int64'>, encoding='utf-8', input='content',\n",
              "        lowercase=True, max_df=1.0, max_features=None, min_df=1,\n",
              "        ngram_range=(1, 1), preprocessor=None, stop_words=None,\n",
              "        strip_accents=None, token_pattern='(?u)\\\\b\\\\w\\\\w+\\\\b',\n",
              "        tokenizer=None, vocabulary=None)"
            ]
          },
          "metadata": {
            "tags": []
          },
          "execution_count": 70
        }
      ]
    },
    {
      "metadata": {
        "id": "ILK95BWOg5Yk",
        "colab_type": "code",
        "colab": {}
      },
      "cell_type": "code",
      "source": [
        "data_df[\"Y\"]=vector"
      ],
      "execution_count": 0,
      "outputs": []
    },
    {
      "metadata": {
        "id": "J-niofzNhBrY",
        "colab_type": "code",
        "colab": {
          "base_uri": "https://localhost:8080/",
          "height": 306
        },
        "outputId": "709350ba-6e48-41c7-84b5-d9767d0f152e"
      },
      "cell_type": "code",
      "source": [
        "data_df.head()"
      ],
      "execution_count": 72,
      "outputs": [
        {
          "output_type": "execute_result",
          "data": {
            "text/html": [
              "<div>\n",
              "<style scoped>\n",
              "    .dataframe tbody tr th:only-of-type {\n",
              "        vertical-align: middle;\n",
              "    }\n",
              "\n",
              "    .dataframe tbody tr th {\n",
              "        vertical-align: top;\n",
              "    }\n",
              "\n",
              "    .dataframe thead th {\n",
              "        text-align: right;\n",
              "    }\n",
              "</style>\n",
              "<table border=\"1\" class=\"dataframe\">\n",
              "  <thead>\n",
              "    <tr style=\"text-align: right;\">\n",
              "      <th></th>\n",
              "      <th>body</th>\n",
              "      <th>sender_name</th>\n",
              "      <th>mailbox_type</th>\n",
              "      <th>file_number</th>\n",
              "      <th>body_clean</th>\n",
              "      <th>stemmed_messages</th>\n",
              "      <th>X</th>\n",
              "      <th>Y</th>\n",
              "    </tr>\n",
              "  </thead>\n",
              "  <tbody>\n",
              "    <tr>\n",
              "      <th>0</th>\n",
              "      <td>Here is our forecast\\n\\n</td>\n",
              "      <td>allen-p</td>\n",
              "      <td>sent</td>\n",
              "      <td>1.</td>\n",
              "      <td>here is our forecast</td>\n",
              "      <td>forecast</td>\n",
              "      <td>(0, 72793)\\t1.0\\n  (1, 143624)\\t0.1123615370...</td>\n",
              "      <td>(0, 0)\\t1\\n  (1, 0)\\t1\\n  (2, 0)\\t1\\n  (3, 0...</td>\n",
              "    </tr>\n",
              "    <tr>\n",
              "      <th>1</th>\n",
              "      <td>Traveling to have a business meeting takes the...</td>\n",
              "      <td>allen-p</td>\n",
              "      <td>sent</td>\n",
              "      <td>10.</td>\n",
              "      <td>traveling to have a business meeting takes the...</td>\n",
              "      <td>travel busi meet take fun trip especi prepar p...</td>\n",
              "      <td>(0, 72793)\\t1.0\\n  (1, 143624)\\t0.1123615370...</td>\n",
              "      <td>(0, 0)\\t1\\n  (1, 0)\\t1\\n  (2, 0)\\t1\\n  (3, 0...</td>\n",
              "    </tr>\n",
              "    <tr>\n",
              "      <th>2</th>\n",
              "      <td>test successful.  way to go!!!</td>\n",
              "      <td>allen-p</td>\n",
              "      <td>sent</td>\n",
              "      <td>100.</td>\n",
              "      <td>test successful  way to go</td>\n",
              "      <td>test success way go</td>\n",
              "      <td>(0, 72793)\\t1.0\\n  (1, 143624)\\t0.1123615370...</td>\n",
              "      <td>(0, 0)\\t1\\n  (1, 0)\\t1\\n  (2, 0)\\t1\\n  (3, 0...</td>\n",
              "    </tr>\n",
              "    <tr>\n",
              "      <th>3</th>\n",
              "      <td>Randy,\\n\\n Can you send me a schedule of the s...</td>\n",
              "      <td>allen-p</td>\n",
              "      <td>sent</td>\n",
              "      <td>1000.</td>\n",
              "      <td>randy   can you send me a schedule of the sala...</td>\n",
              "      <td>randi send schedul salari level everyon schedu...</td>\n",
              "      <td>(0, 72793)\\t1.0\\n  (1, 143624)\\t0.1123615370...</td>\n",
              "      <td>(0, 0)\\t1\\n  (1, 0)\\t1\\n  (2, 0)\\t1\\n  (3, 0...</td>\n",
              "    </tr>\n",
              "    <tr>\n",
              "      <th>4</th>\n",
              "      <td>Let's shoot for Tuesday at 11:45.</td>\n",
              "      <td>allen-p</td>\n",
              "      <td>sent</td>\n",
              "      <td>1001.</td>\n",
              "      <td>lets shoot for tuesday at 1145</td>\n",
              "      <td>let shoot tuesday 1145</td>\n",
              "      <td>(0, 72793)\\t1.0\\n  (1, 143624)\\t0.1123615370...</td>\n",
              "      <td>(0, 0)\\t1\\n  (1, 0)\\t1\\n  (2, 0)\\t1\\n  (3, 0...</td>\n",
              "    </tr>\n",
              "  </tbody>\n",
              "</table>\n",
              "</div>"
            ],
            "text/plain": [
              "                                                body sender_name mailbox_type  \\\n",
              "0                          Here is our forecast\\n\\n      allen-p         sent   \n",
              "1  Traveling to have a business meeting takes the...     allen-p         sent   \n",
              "2                     test successful.  way to go!!!     allen-p         sent   \n",
              "3  Randy,\\n\\n Can you send me a schedule of the s...     allen-p         sent   \n",
              "4                Let's shoot for Tuesday at 11:45.       allen-p         sent   \n",
              "\n",
              "  file_number                                         body_clean  \\\n",
              "0          1.                            here is our forecast      \n",
              "1         10.  traveling to have a business meeting takes the...   \n",
              "2        100.                         test successful  way to go   \n",
              "3       1000.  randy   can you send me a schedule of the sala...   \n",
              "4       1001.                   lets shoot for tuesday at 1145     \n",
              "\n",
              "                                    stemmed_messages  \\\n",
              "0                                           forecast   \n",
              "1  travel busi meet take fun trip especi prepar p...   \n",
              "2                                test success way go   \n",
              "3  randi send schedul salari level everyon schedu...   \n",
              "4                             let shoot tuesday 1145   \n",
              "\n",
              "                                                   X  \\\n",
              "0    (0, 72793)\\t1.0\\n  (1, 143624)\\t0.1123615370...   \n",
              "1    (0, 72793)\\t1.0\\n  (1, 143624)\\t0.1123615370...   \n",
              "2    (0, 72793)\\t1.0\\n  (1, 143624)\\t0.1123615370...   \n",
              "3    (0, 72793)\\t1.0\\n  (1, 143624)\\t0.1123615370...   \n",
              "4    (0, 72793)\\t1.0\\n  (1, 143624)\\t0.1123615370...   \n",
              "\n",
              "                                                   Y  \n",
              "0    (0, 0)\\t1\\n  (1, 0)\\t1\\n  (2, 0)\\t1\\n  (3, 0...  \n",
              "1    (0, 0)\\t1\\n  (1, 0)\\t1\\n  (2, 0)\\t1\\n  (3, 0...  \n",
              "2    (0, 0)\\t1\\n  (1, 0)\\t1\\n  (2, 0)\\t1\\n  (3, 0...  \n",
              "3    (0, 0)\\t1\\n  (1, 0)\\t1\\n  (2, 0)\\t1\\n  (3, 0...  \n",
              "4    (0, 0)\\t1\\n  (1, 0)\\t1\\n  (2, 0)\\t1\\n  (3, 0...  "
            ]
          },
          "metadata": {
            "tags": []
          },
          "execution_count": 72
        }
      ]
    },
    {
      "metadata": {
        "id": "dxqRKHrBfIyP",
        "colab_type": "code",
        "colab": {}
      },
      "cell_type": "code",
      "source": [
        "# to_me=top_mean_feats(X, features, None, 0.1, 10)"
      ],
      "execution_count": 0,
      "outputs": []
    },
    {
      "metadata": {
        "id": "PknA9a3VfNkd",
        "colab_type": "code",
        "colab": {}
      },
      "cell_type": "code",
      "source": [
        "# to_me"
      ],
      "execution_count": 0,
      "outputs": []
    },
    {
      "metadata": {
        "id": "mq_ywkQdpzAC",
        "colab_type": "code",
        "colab": {}
      },
      "cell_type": "code",
      "source": [
        "# data_df.head()"
      ],
      "execution_count": 0,
      "outputs": []
    },
    {
      "metadata": {
        "id": "uf8TALzRVj0F",
        "colab_type": "code",
        "colab": {}
      },
      "cell_type": "code",
      "source": [
        "# l=len(data_df[\"sender_name\"].value_counts())"
      ],
      "execution_count": 0,
      "outputs": []
    },
    {
      "metadata": {
        "id": "QIdmjXhXgZb5",
        "colab_type": "text"
      },
      "cell_type": "markdown",
      "source": [
        "Now we can build a classification model to predict sender given email content.\n",
        "let's use the logistic algorithm. "
      ]
    },
    {
      "metadata": {
        "id": "jp5QZN-mWG1O",
        "colab_type": "code",
        "colab": {}
      },
      "cell_type": "code",
      "source": [
        " from sklearn import neighbors, datasets, preprocessing"
      ],
      "execution_count": 0,
      "outputs": []
    },
    {
      "metadata": {
        "id": "A_nXvkI-M_zQ",
        "colab_type": "code",
        "colab": {}
      },
      "cell_type": "code",
      "source": [
        " from sklearn.metrics import accuracy_score"
      ],
      "execution_count": 0,
      "outputs": []
    },
    {
      "metadata": {
        "id": "30K2-hqltpi3",
        "colab_type": "code",
        "colab": {}
      },
      "cell_type": "code",
      "source": [
        "X,Y=data_df.X, data_df.Y"
      ],
      "execution_count": 0,
      "outputs": []
    },
    {
      "metadata": {
        "id": "XlHIwtUsg3AO",
        "colab_type": "text"
      },
      "cell_type": "markdown",
      "source": [
        "Splitting the data into training and testing."
      ]
    },
    {
      "metadata": {
        "id": "O_o-PZmEW2-1",
        "colab_type": "code",
        "colab": {}
      },
      "cell_type": "code",
      "source": [
        "#  train, test_df = train_test_split(test_df, test_size=0.2)\n",
        "  X_train, X_test, y_train, y_test = train_test_split(X,Y, test_size=0.2)"
      ],
      "execution_count": 0,
      "outputs": []
    },
    {
      "metadata": {
        "id": "MunS3t2W2Zzd",
        "colab_type": "code",
        "colab": {
          "base_uri": "https://localhost:8080/",
          "height": 34
        },
        "outputId": "6572b733-9d0f-4188-d552-44611cf88cdb"
      },
      "cell_type": "code",
      "source": [
        "# X.shape"
      ],
      "execution_count": 77,
      "outputs": [
        {
          "output_type": "execute_result",
          "data": {
            "text/plain": [
              "(126846,)"
            ]
          },
          "metadata": {
            "tags": []
          },
          "execution_count": 77
        }
      ]
    },
    {
      "metadata": {
        "id": "x4tjJ0_ntgXp",
        "colab_type": "code",
        "colab": {}
      },
      "cell_type": "code",
      "source": [
        "# data_df.head()"
      ],
      "execution_count": 0,
      "outputs": []
    },
    {
      "metadata": {
        "id": "Q1YO3Q5ut8mD",
        "colab_type": "code",
        "colab": {}
      },
      "cell_type": "code",
      "source": [
        "# X=data_df[\"X\"]"
      ],
      "execution_count": 0,
      "outputs": []
    },
    {
      "metadata": {
        "id": "MRTmSUBGx1Ve",
        "colab_type": "code",
        "colab": {}
      },
      "cell_type": "code",
      "source": [
        "# Y=data_df[\"Y\"]"
      ],
      "execution_count": 0,
      "outputs": []
    },
    {
      "metadata": {
        "id": "hQhaE5xENKJ8",
        "colab_type": "code",
        "colab": {
          "base_uri": "https://localhost:8080/",
          "height": 693
        },
        "outputId": "300e00d2-8082-456d-cc30-f2d846bdb648"
      },
      "cell_type": "code",
      "source": [
        " scaler = preprocessing.StandardScaler().fit(X_train)\n",
        "# X_train = scaler.transform(X_train)\n",
        "# X_test = scaler.transform(X_test)"
      ],
      "execution_count": 93,
      "outputs": [
        {
          "output_type": "error",
          "ename": "ValueError",
          "evalue": "ignored",
          "traceback": [
            "\u001b[0;31m---------------------------------------------------------------------------\u001b[0m",
            "\u001b[0;31mValueError\u001b[0m                                Traceback (most recent call last)",
            "\u001b[0;32m<ipython-input-93-6170ab2617c8>\u001b[0m in \u001b[0;36m<module>\u001b[0;34m()\u001b[0m\n\u001b[0;32m----> 1\u001b[0;31m \u001b[0mscaler\u001b[0m \u001b[0;34m=\u001b[0m \u001b[0mpreprocessing\u001b[0m\u001b[0;34m.\u001b[0m\u001b[0mStandardScaler\u001b[0m\u001b[0;34m(\u001b[0m\u001b[0;34m)\u001b[0m\u001b[0;34m.\u001b[0m\u001b[0mfit\u001b[0m\u001b[0;34m(\u001b[0m\u001b[0mX_train\u001b[0m\u001b[0;34m)\u001b[0m\u001b[0;34m\u001b[0m\u001b[0;34m\u001b[0m\u001b[0m\n\u001b[0m\u001b[1;32m      2\u001b[0m \u001b[0;31m# X_train = scaler.transform(X_train)\u001b[0m\u001b[0;34m\u001b[0m\u001b[0;34m\u001b[0m\u001b[0;34m\u001b[0m\u001b[0m\n\u001b[1;32m      3\u001b[0m \u001b[0;31m# X_test = scaler.transform(X_test)\u001b[0m\u001b[0;34m\u001b[0m\u001b[0;34m\u001b[0m\u001b[0;34m\u001b[0m\u001b[0m\n",
            "\u001b[0;32m/usr/local/lib/python3.6/dist-packages/sklearn/preprocessing/data.py\u001b[0m in \u001b[0;36mfit\u001b[0;34m(self, X, y)\u001b[0m\n\u001b[1;32m    643\u001b[0m         \u001b[0;31m# Reset internal state before fitting\u001b[0m\u001b[0;34m\u001b[0m\u001b[0;34m\u001b[0m\u001b[0;34m\u001b[0m\u001b[0m\n\u001b[1;32m    644\u001b[0m         \u001b[0mself\u001b[0m\u001b[0;34m.\u001b[0m\u001b[0m_reset\u001b[0m\u001b[0;34m(\u001b[0m\u001b[0;34m)\u001b[0m\u001b[0;34m\u001b[0m\u001b[0;34m\u001b[0m\u001b[0m\n\u001b[0;32m--> 645\u001b[0;31m         \u001b[0;32mreturn\u001b[0m \u001b[0mself\u001b[0m\u001b[0;34m.\u001b[0m\u001b[0mpartial_fit\u001b[0m\u001b[0;34m(\u001b[0m\u001b[0mX\u001b[0m\u001b[0;34m,\u001b[0m \u001b[0my\u001b[0m\u001b[0;34m)\u001b[0m\u001b[0;34m\u001b[0m\u001b[0;34m\u001b[0m\u001b[0m\n\u001b[0m\u001b[1;32m    646\u001b[0m \u001b[0;34m\u001b[0m\u001b[0m\n\u001b[1;32m    647\u001b[0m     \u001b[0;32mdef\u001b[0m \u001b[0mpartial_fit\u001b[0m\u001b[0;34m(\u001b[0m\u001b[0mself\u001b[0m\u001b[0;34m,\u001b[0m \u001b[0mX\u001b[0m\u001b[0;34m,\u001b[0m \u001b[0my\u001b[0m\u001b[0;34m=\u001b[0m\u001b[0;32mNone\u001b[0m\u001b[0;34m)\u001b[0m\u001b[0;34m:\u001b[0m\u001b[0;34m\u001b[0m\u001b[0;34m\u001b[0m\u001b[0m\n",
            "\u001b[0;32m/usr/local/lib/python3.6/dist-packages/sklearn/preprocessing/data.py\u001b[0m in \u001b[0;36mpartial_fit\u001b[0;34m(self, X, y)\u001b[0m\n\u001b[1;32m    667\u001b[0m         X = check_array(X, accept_sparse=('csr', 'csc'), copy=self.copy,\n\u001b[1;32m    668\u001b[0m                         \u001b[0mwarn_on_dtype\u001b[0m\u001b[0;34m=\u001b[0m\u001b[0;32mTrue\u001b[0m\u001b[0;34m,\u001b[0m \u001b[0mestimator\u001b[0m\u001b[0;34m=\u001b[0m\u001b[0mself\u001b[0m\u001b[0;34m,\u001b[0m \u001b[0mdtype\u001b[0m\u001b[0;34m=\u001b[0m\u001b[0mFLOAT_DTYPES\u001b[0m\u001b[0;34m,\u001b[0m\u001b[0;34m\u001b[0m\u001b[0;34m\u001b[0m\u001b[0m\n\u001b[0;32m--> 669\u001b[0;31m                         force_all_finite='allow-nan')\n\u001b[0m\u001b[1;32m    670\u001b[0m \u001b[0;34m\u001b[0m\u001b[0m\n\u001b[1;32m    671\u001b[0m         \u001b[0;31m# Even in the case of `with_mean=False`, we update the mean anyway\u001b[0m\u001b[0;34m\u001b[0m\u001b[0;34m\u001b[0m\u001b[0;34m\u001b[0m\u001b[0m\n",
            "\u001b[0;32m/usr/local/lib/python3.6/dist-packages/sklearn/utils/validation.py\u001b[0m in \u001b[0;36mcheck_array\u001b[0;34m(array, accept_sparse, accept_large_sparse, dtype, order, copy, force_all_finite, ensure_2d, allow_nd, ensure_min_samples, ensure_min_features, warn_on_dtype, estimator)\u001b[0m\n\u001b[1;32m    525\u001b[0m             \u001b[0;32mtry\u001b[0m\u001b[0;34m:\u001b[0m\u001b[0;34m\u001b[0m\u001b[0;34m\u001b[0m\u001b[0m\n\u001b[1;32m    526\u001b[0m                 \u001b[0mwarnings\u001b[0m\u001b[0;34m.\u001b[0m\u001b[0msimplefilter\u001b[0m\u001b[0;34m(\u001b[0m\u001b[0;34m'error'\u001b[0m\u001b[0;34m,\u001b[0m \u001b[0mComplexWarning\u001b[0m\u001b[0;34m)\u001b[0m\u001b[0;34m\u001b[0m\u001b[0;34m\u001b[0m\u001b[0m\n\u001b[0;32m--> 527\u001b[0;31m                 \u001b[0marray\u001b[0m \u001b[0;34m=\u001b[0m \u001b[0mnp\u001b[0m\u001b[0;34m.\u001b[0m\u001b[0masarray\u001b[0m\u001b[0;34m(\u001b[0m\u001b[0marray\u001b[0m\u001b[0;34m,\u001b[0m \u001b[0mdtype\u001b[0m\u001b[0;34m=\u001b[0m\u001b[0mdtype\u001b[0m\u001b[0;34m,\u001b[0m \u001b[0morder\u001b[0m\u001b[0;34m=\u001b[0m\u001b[0morder\u001b[0m\u001b[0;34m)\u001b[0m\u001b[0;34m\u001b[0m\u001b[0;34m\u001b[0m\u001b[0m\n\u001b[0m\u001b[1;32m    528\u001b[0m             \u001b[0;32mexcept\u001b[0m \u001b[0mComplexWarning\u001b[0m\u001b[0;34m:\u001b[0m\u001b[0;34m\u001b[0m\u001b[0;34m\u001b[0m\u001b[0m\n\u001b[1;32m    529\u001b[0m                 raise ValueError(\"Complex data not supported\\n\"\n",
            "\u001b[0;32m/usr/local/lib/python3.6/dist-packages/numpy/core/numeric.py\u001b[0m in \u001b[0;36masarray\u001b[0;34m(a, dtype, order)\u001b[0m\n\u001b[1;32m    490\u001b[0m \u001b[0;34m\u001b[0m\u001b[0m\n\u001b[1;32m    491\u001b[0m     \"\"\"\n\u001b[0;32m--> 492\u001b[0;31m     \u001b[0;32mreturn\u001b[0m \u001b[0marray\u001b[0m\u001b[0;34m(\u001b[0m\u001b[0ma\u001b[0m\u001b[0;34m,\u001b[0m \u001b[0mdtype\u001b[0m\u001b[0;34m,\u001b[0m \u001b[0mcopy\u001b[0m\u001b[0;34m=\u001b[0m\u001b[0;32mFalse\u001b[0m\u001b[0;34m,\u001b[0m \u001b[0morder\u001b[0m\u001b[0;34m=\u001b[0m\u001b[0morder\u001b[0m\u001b[0;34m)\u001b[0m\u001b[0;34m\u001b[0m\u001b[0;34m\u001b[0m\u001b[0m\n\u001b[0m\u001b[1;32m    493\u001b[0m \u001b[0;34m\u001b[0m\u001b[0m\n\u001b[1;32m    494\u001b[0m \u001b[0;34m\u001b[0m\u001b[0m\n",
            "\u001b[0;31mValueError\u001b[0m: setting an array element with a sequence."
          ]
        }
      ]
    },
    {
      "metadata": {
        "id": "WRpM0g1C123a",
        "colab_type": "code",
        "colab": {}
      },
      "cell_type": "code",
      "source": [
        "# X_train.describe"
      ],
      "execution_count": 0,
      "outputs": []
    },
    {
      "metadata": {
        "id": "fQSOX6Xy19wj",
        "colab_type": "code",
        "colab": {}
      },
      "cell_type": "code",
      "source": [
        "# X_test.shape"
      ],
      "execution_count": 0,
      "outputs": []
    },
    {
      "metadata": {
        "id": "1l7yAsQh225J",
        "colab_type": "code",
        "colab": {}
      },
      "cell_type": "code",
      "source": [
        "# y_train.describe"
      ],
      "execution_count": 0,
      "outputs": []
    },
    {
      "metadata": {
        "id": "Ll2hXKAQ3CK7",
        "colab_type": "code",
        "colab": {}
      },
      "cell_type": "code",
      "source": [
        "# y_test.shape"
      ],
      "execution_count": 0,
      "outputs": []
    },
    {
      "metadata": {
        "id": "Jb9WC3kJ3H77",
        "colab_type": "code",
        "colab": {}
      },
      "cell_type": "code",
      "source": [
        "# X_train.iloc[0]"
      ],
      "execution_count": 0,
      "outputs": []
    },
    {
      "metadata": {
        "id": "ibdf3rUS3fC_",
        "colab_type": "code",
        "colab": {}
      },
      "cell_type": "code",
      "source": [
        "# y_train.iloc[0]"
      ],
      "execution_count": 0,
      "outputs": []
    },
    {
      "metadata": {
        "id": "cXCraJ_Fyb7M",
        "colab_type": "code",
        "colab": {}
      },
      "cell_type": "code",
      "source": [
        "# from sklearn.preprocessing import StandardScaler"
      ],
      "execution_count": 0,
      "outputs": []
    },
    {
      "metadata": {
        "id": "OT-tFTvmydct",
        "colab_type": "code",
        "colab": {}
      },
      "cell_type": "code",
      "source": [
        "# scaler = StandardScaler()"
      ],
      "execution_count": 0,
      "outputs": []
    },
    {
      "metadata": {
        "id": "_mplTGP1yhJX",
        "colab_type": "code",
        "colab": {}
      },
      "cell_type": "code",
      "source": [
        "# scaler.fit(X_train)"
      ],
      "execution_count": 0,
      "outputs": []
    },
    {
      "metadata": {
        "id": "Onm8G5IbpcP8",
        "colab_type": "code",
        "colab": {}
      },
      "cell_type": "code",
      "source": [
        "# classifier = LogisticRegression(random_state=0)\n",
        "# classifier.fit(X_train, y_train)"
      ],
      "execution_count": 0,
      "outputs": []
    },
    {
      "metadata": {
        "id": "KzM6xq7_3kIs",
        "colab_type": "code",
        "colab": {}
      },
      "cell_type": "code",
      "source": [
        "# lr = LogisticRegression().fit(X_train, y_train)"
      ],
      "execution_count": 0,
      "outputs": []
    },
    {
      "metadata": {
        "id": "mU3xIdDzmNpH",
        "colab_type": "code",
        "colab": {}
      },
      "cell_type": "code",
      "source": [
        ""
      ],
      "execution_count": 0,
      "outputs": []
    }
  ]
}